{
 "cells": [
  {
   "cell_type": "markdown",
   "metadata": {},
   "source": [
    "# Курсовая работа по дисциплине СиАОД\n",
    "Выполнила студентка группы БСТ1904 Назаренко София"
   ]
  },
  {
   "cell_type": "markdown",
   "metadata": {},
   "source": [
    "# Задача 1"
   ]
  },
  {
   "cell_type": "markdown",
   "metadata": {},
   "source": [
    "Даны две строки: s1 и s2 с одинаковым размером, проверьте, может ли\n",
    "некоторая перестановка строки s1 “победить” некоторую перестановку\n",
    "строки s2 или наоборот.\n",
    "Строка x может “победить” строку y (обе имеют размер n), если x[i]> = y\n",
    "[i] (в алфавитном порядке) для всех i от 0 до n-1."
   ]
  },
  {
   "cell_type": "code",
   "execution_count": 21,
   "metadata": {},
   "outputs": [
    {
     "name": "stdout",
     "output_type": "stream",
     "text": [
      "True\n",
      "False\n"
     ]
    }
   ],
   "source": [
    "def pobeda(str1, str2):\n",
    "    sorted1 = ''.join(sorted(str1));\n",
    "    sorted2 = ''.join(sorted(str2));\n",
    "    firstWon = True; secondWon = True;\n",
    "    \n",
    "    for i in range(0, len(sorted1)):\n",
    "        if not (sorted1[i] >= sorted2[i]):\n",
    "            firstWon = False\n",
    "            break;\n",
    "    \n",
    "    if not firstWon:\n",
    "        for i in range(0, len(sorted1)):\n",
    "            if not(sorted2[i] >= sorted1[i]):\n",
    "                secondWon = False\n",
    "                break;\n",
    "    else: secondWon = False\n",
    "    \n",
    "    return (firstWon or secondWon)\n",
    "print(pobeda('abc', 'xya'))\n",
    "print(pobeda('abe', 'acd'))"
   ]
  },
  {
   "cell_type": "markdown",
   "metadata": {},
   "source": [
    "# Задача 2"
   ]
  },
  {
   "cell_type": "markdown",
   "metadata": {},
   "source": [
    "Дана строка s, вернуть самую длинную полиндромную подстроку в s."
   ]
  },
  {
   "cell_type": "code",
   "execution_count": 22,
   "metadata": {},
   "outputs": [
    {
     "name": "stdout",
     "output_type": "stream",
     "text": [
      "bab\n",
      "bb\n",
      "gffg\n"
     ]
    }
   ],
   "source": [
    "def isPalindrom(inStr):\n",
    "    length = len(inStr)\n",
    "    if length == 0 or length == 1:\n",
    "        return True\n",
    "    else:\n",
    "        flag = True\n",
    "        for i in range(0, int(length / 2)):\n",
    "            if not(inStr[i] == inStr[length - (i + 1)]):\n",
    "                flag = False\n",
    "        return flag\n",
    "\n",
    "def solve(text):\n",
    "    length = len(text)\n",
    "    if (length == 0 or length == 1):\n",
    "        return text\n",
    "    result = text[0:1]\n",
    "    \n",
    "    for i in range(0, length):\n",
    "        offset = 0\n",
    "        if (i <= (length - (i + 1))):\n",
    "            offset = i\n",
    "        else:\n",
    "            offset = length - (i + 1)\n",
    "        \n",
    "        for j in range(0, offset + 1):\n",
    "            temp1 = text[i - j: 2 * j + 1]\n",
    "            temp2 = text[i - j: 2 * j]\n",
    "            if isPalindrom(temp1):\n",
    "                if len(temp1) > len(result):\n",
    "                    result = temp1\n",
    "            elif isPalindrom(temp2):\n",
    "                if len(temp2) > len(result):\n",
    "                    result = temp2\n",
    "            else: break;\n",
    "    \n",
    "    return result\n",
    "\n",
    "print(solve('babad'))\n",
    "print(solve('cbbd'))\n",
    "print(solve('hgffgs'))\n"
   ]
  },
  {
   "cell_type": "markdown",
   "metadata": {},
   "source": [
    "# Задача 3"
   ]
  },
  {
   "cell_type": "markdown",
   "metadata": {},
   "source": [
    "Вернуть количество отдельных непустых подстрок текста, которые могут\n",
    "быть записаны как конкатенация некоторой строки с самой собой (т.е. она\n",
    "может быть записана, как a + a, где a - некоторая строка)."
   ]
  },
  {
   "cell_type": "code",
   "execution_count": 23,
   "metadata": {},
   "outputs": [
    {
     "name": "stdout",
     "output_type": "stream",
     "text": [
      "3\n"
     ]
    }
   ],
   "source": [
    "def empty(text):\n",
    "    length = len(text)\n",
    "    result = []\n",
    "    for i in range(0, length):\n",
    "        for j in range(i + 1, length + 1):\n",
    "            temp = text[i:j]\n",
    "            for i in range(0, len(temp)):\n",
    "                flag = False\n",
    "                if temp[0:i] == temp[i:len(temp)]:\n",
    "                    result.append(temp)\n",
    "                    flag = True\n",
    "                if flag == True: break;              \n",
    "    return len(set(result))\n",
    "print(empty('abcabcabc'))"
   ]
  },
  {
   "cell_type": "markdown",
   "metadata": {},
   "source": [
    "# Задача 4 «Треугольник с максимальным периметром»"
   ]
  },
  {
   "cell_type": "markdown",
   "metadata": {},
   "source": [
    "Массив A состоит из целых положительных чисел длин отрезков. Составьте из трех отрезков такой треугольник, чтобы его периметр был максимально возможным. Если невозможно составить треугольник с положительной площадью функция возвращает 0."
   ]
  },
  {
   "cell_type": "code",
   "execution_count": 24,
   "metadata": {},
   "outputs": [
    {
     "name": "stdout",
     "output_type": "stream",
     "text": [
      "[3, 2, 3, 4] --> Maximum Perimeter is: 10\n",
      "[1, 2, 1] --> Triangle formation is not possible\n",
      "[3, 2, 3, 4] --> Maximum Perimeter is: 10\n",
      "[3, 6, 2, 3] --> Maximum Perimeter is: 8\n"
     ]
    }
   ],
   "source": [
    "def maxPerimeter(arr):\n",
    "    maximum = 0\n",
    "    n = len(arr)\n",
    "    for i in range(n - 2):\n",
    "        for j in range(i + 1, n - 1):\n",
    "            for k in range(j + 1, n):  \n",
    "                # a, b, c - 3 стороны\n",
    "                a = arr[i]\n",
    "                b = arr[j]\n",
    "                c = arr[k]\n",
    "                if(a < b + c and b < a + c \n",
    "                             and c < a + b):\n",
    "                    maximum = max(maximum, a + b + c)\n",
    "    if(maximum == 0):\n",
    "        return (\"Triangle formation is not possible\")\n",
    "    else:\n",
    "        return (\"Maximum Perimeter is: \"+ str(maximum))    \n",
    "    \n",
    "arr = [3,2,3,4]\n",
    "print(arr,\"-->\", maxPerimeter(arr))\n",
    "arr = [1, 2, 1]\n",
    "print(arr,\"-->\", maxPerimeter(arr))\n",
    "arr = [3, 2, 3, 4]\n",
    "print(arr,\"-->\", maxPerimeter(arr))\n",
    "arr = [3, 6, 2, 3]\n",
    "print(arr,\"-->\", maxPerimeter(arr))"
   ]
  },
  {
   "cell_type": "markdown",
   "metadata": {},
   "source": [
    "# Задача 5 «Сортировка диагоналей в матрице»"
   ]
  },
  {
   "cell_type": "code",
   "execution_count": 25,
   "metadata": {},
   "outputs": [
    {
     "name": "stdout",
     "output_type": "stream",
     "text": [
      "mat:\n",
      "[3, 3, 1, 1]\n",
      "[2, 2, 1, 2]\n",
      "[1, 1, 1, 2]\n",
      "\n",
      "Sorted: \n",
      "[1, 1, 1, 1]\n",
      "[1, 2, 2, 2]\n",
      "[1, 2, 3, 3]\n",
      "\n",
      "mat:\n",
      "[11, 25, 66, 1, 69, 7]\n",
      "[23, 55, 17, 45, 15, 52]\n",
      "[75, 31, 36, 44, 58, 8]\n",
      "[22, 27, 33, 25, 68, 4]\n",
      "[84, 28, 14, 11, 5, 50]\n",
      "\n",
      "Sorted: \n",
      "[5, 17, 4, 1, 52, 7]\n",
      "[11, 11, 25, 45, 8, 69]\n",
      "[14, 23, 25, 44, 58, 15]\n",
      "[22, 27, 31, 36, 50, 66]\n",
      "[84, 28, 75, 33, 55, 68]\n"
     ]
    }
   ],
   "source": [
    "def sortDiag(mat):\n",
    "    # Размер матрицы\n",
    "    m, n = len(mat), len(mat[0])\n",
    "    \n",
    "    # Пустой массив для диагоналей исходной матрицы\n",
    "    temp = [[] for i in range(m+n)]\n",
    "    \n",
    "    #temp = []\n",
    "    #for i in range(m + n):\n",
    "    #    temp.append([])\n",
    "\n",
    "        \n",
    "    # Добавляем каждую диагональ в массив t\n",
    "    for i in range(m):\n",
    "        for j in range(n):\n",
    "            temp[i - j].append(mat[i][j])\n",
    "    \n",
    "    # Сортируем каждую диагональ (т.е линию) массива\n",
    "    for line in temp:\n",
    "        line.sort(reverse = True)\n",
    "    \n",
    "    # \"Линии\" в диагонали матрицы\n",
    "    for i in range(m):\n",
    "        for j in range(n):\n",
    "            # pop() удаляет последний элемент массива и возвращает его\n",
    "            mat[i][j] = temp[i-j].pop()\n",
    "    return mat\n",
    "\n",
    "\n",
    "\n",
    "arr = [[3,3,1,1], [2,2,1,2], [1,1,1,2]]\n",
    "print(\"mat:\")\n",
    "for l in arr:\n",
    "    print(l) \n",
    "print(\"\\nSorted: \")\n",
    "arr = sortDiag(arr)\n",
    "for l in arr:\n",
    "    print(l)\n",
    "arr = [[11, 25, 66, 1, 69, 7], [23, 55, 17, 45, 15, 52], [75, 31, 36, 44, 58, 8], [22, 27, 33, 25, 68, 4], [84, 28, 14, 11, 5, 50]]\n",
    "print(\"\\nmat:\")\n",
    "for l in arr:\n",
    "    print(l)\n",
    "    \n",
    "print(\"\\nSorted: \")\n",
    "arr = sortDiag(arr)\n",
    "for l in arr:\n",
    "    print(l)"
   ]
  },
  {
   "cell_type": "markdown",
   "metadata": {},
   "source": [
    "# Задача 6 «Объединение отрезков»"
   ]
  },
  {
   "cell_type": "markdown",
   "metadata": {},
   "source": [
    "Дан массив отрезков intervals, в котором intervals[i] = [starti, endi], некоторые\n",
    "отрезки могут пересекаться. Напишите функцию, которая объединяет все пересекающиеся отрезки\n",
    "в один и возвращает новый массив непересекающихся отрезков."
   ]
  },
  {
   "cell_type": "code",
   "execution_count": 26,
   "metadata": {},
   "outputs": [
    {
     "name": "stdout",
     "output_type": "stream",
     "text": [
      "[[1,3],[2,6],[8,10],[15,18]] --> [[1, 6], [8, 10], [15, 18]]\n",
      "[[1,4],[4,5]] --> [[1, 5]]\n"
     ]
    }
   ],
   "source": [
    "import collections\n",
    "class Solution:\n",
    "    def overlap(a, b):\n",
    "        return a[0] <= b[1] and b[0] <= a[1]\n",
    "\n",
    "    def buildGraph(intervals):\n",
    "        graph = collections.defaultdict(list)\n",
    "\n",
    "        for i, interval_i in enumerate(intervals):\n",
    "            for j in range(i+1, len(intervals)):\n",
    "                if Solution.overlap(interval_i, intervals[j]):\n",
    "                    graph[tuple(interval_i)].append(intervals[j])\n",
    "                    graph[tuple(intervals[j])].append(interval_i)\n",
    "\n",
    "        return graph\n",
    "\n",
    "    def mergeNodes(nodes):\n",
    "        min_start = min(node[0] for node in nodes)\n",
    "        max_end = max(node[1] for node in nodes)\n",
    "        return [min_start, max_end]\n",
    "\n",
    "    def getComponents(graph, intervals):\n",
    "        visited = set()\n",
    "        comp_number = 0\n",
    "        nodes_in_comp = collections.defaultdict(list)\n",
    "\n",
    "        def markComponentDFS(start):\n",
    "            stack = [start]\n",
    "            while stack:\n",
    "                node = tuple(stack.pop())\n",
    "                if node not in visited:\n",
    "                    visited.add(node)\n",
    "                    nodes_in_comp[comp_number].append(node)\n",
    "                    stack.extend(graph[node])\n",
    "\n",
    "        for interval in intervals:\n",
    "            if tuple(interval) not in visited:\n",
    "                markComponentDFS(interval)\n",
    "                comp_number += 1\n",
    "\n",
    "        return nodes_in_comp, comp_number\n",
    "\n",
    "\n",
    "    def merge(intervals):\n",
    "        graph = Solution.buildGraph(intervals)\n",
    "        nodes_in_comp, number_of_comps = Solution.getComponents(graph, intervals)\n",
    "\n",
    "        return [Solution.mergeNodes(nodes_in_comp[comp]) for comp in range(number_of_comps)]\n",
    "\n",
    "print(\"[[1,3],[2,6],[8,10],[15,18]] -->\", Solution.merge([[1,3],[2,6],[8,10],[15,18]]))\n",
    "print(\"[[1,4],[4,5]] -->\", Solution.merge([[1,4],[4,5]]))"
   ]
  },
  {
   "cell_type": "markdown",
   "metadata": {},
   "source": [
    "# Задача 7 «Стопки монет»"
   ]
  },
  {
   "cell_type": "markdown",
   "metadata": {},
   "source": [
    "На столе стоят 3n стопок монет. Вы и ваши друзья Алиса и Боб забираете стопки монет по\n",
    "следующему алгоритму:\n",
    "1. Вы выбираете 3 стопки монет из оставшихся на столе.\n",
    "2. Алиса забирает себе стопку с максимальным количеством монет.\n",
    "3. Вы забираете одну из двух оставшихся стопок.\n",
    "4. Боб забирает последнюю стопку.\n",
    "5. Если еще остались стопки, то действия повторяются с первого шага.\n",
    "Дан массив целых положительных чисел piles. Напишите функцию, возвращающую максимальное\n",
    "число монет, которое вы можете получить."
   ]
  },
  {
   "cell_type": "code",
   "execution_count": 27,
   "metadata": {},
   "outputs": [
    {
     "name": "stdout",
     "output_type": "stream",
     "text": [
      "[2,4,5,6,7,8] --> 12\n",
      "[2,4,5] --> 4\n",
      "[9,8,7,6,5,1,2,3,4] --> 18\n"
     ]
    }
   ],
   "source": [
    "def max_coint(arr):\n",
    "    arr.sort()\n",
    "    res=0\n",
    "    n=len(arr)//3\n",
    "    for i in range (n, len(arr), 2):\n",
    "        res+=arr[i]\n",
    "    return res\n",
    "\n",
    "print(\"[2,4,5,6,7,8] -->\", max_coint([2,4,5,6,7,8]))\n",
    "print(\"[2,4,5] -->\", max_coint([2,4,5]))\n",
    "print(\"[9,8,7,6,5,1,2,3,4] -->\", max_coint([9,8,7,6,5,1,2,3,4]))"
   ]
  },
  {
   "cell_type": "markdown",
   "metadata": {},
   "source": [
    "# Задача 8 «Шарики и стрелы»\n",
    "Некоторые сферические шарики распределены по двухмерному пространству. Для каждого\n",
    "шарика даны xкоординаты\n",
    "начала и конца его горизонтального диаметра. Так как пространство\n",
    "двумерно, то yкоординаты\n",
    "не имеют значения в данной задаче. Координата xstart всегда меньше\n",
    "xend.\n",
    "Стрелу можно выстрелить строго вертикально (вдоль yоси)\n",
    "из разных точек xоси.\n",
    "Шарик\n",
    "с координатами xstart и xend уничтожается стрелой, если она была выпущена из такой позиции\n",
    "x, что xstart ⩽ x ⩽ xend. Когда стрела выпущена, она летит в пространстве бесконечное время\n",
    "(уничтожая все шарики на пути).\n",
    "Дан массив points, где points[i] = [xstart, xend]. Напишите функцию, возвращающую\n",
    "минимальное количество стрел, которые нужно выпустить, чтобы уничтожить все шарики."
   ]
  },
  {
   "cell_type": "code",
   "execution_count": 28,
   "metadata": {},
   "outputs": [
    {
     "name": "stdout",
     "output_type": "stream",
     "text": [
      "[[10, 16],[2,8],[1,6],[7,12]] --> 2\n",
      " \n",
      "[[1,2],[3,4],[5,6],[7,8]] --> 4\n",
      " \n",
      "[[1,2],[2,3],[3,4],[4,5]] --> 2\n",
      " \n",
      "[[1,2]] --> 1\n",
      " \n",
      "[[2,3],[2,3]] --> 1\n"
     ]
    }
   ],
   "source": [
    "class Solution:    \n",
    "    def arrowShots(points) -> int:\n",
    "        if not points: return 0\n",
    "        points.sort()\n",
    "        prev=points[0]\n",
    "        total=1\n",
    "        for s,e in points[1:]:\n",
    "            if s>prev[1]:\n",
    "                total+=1\n",
    "                prev=[s,e]\n",
    "            else:\n",
    "                prev[1]=min(prev[1],e)\n",
    "        \n",
    "        return total\n",
    "\n",
    "print(\"[[10, 16],[2,8],[1,6],[7,12]] -->\", Solution.arrowShots([[10, 16],[2,8],[1,6],[7,12]]))\n",
    "print(\" \")\n",
    "print(\"[[1,2],[3,4],[5,6],[7,8]] -->\", Solution.arrowShots([[1,2],[3,4],[5,6],[7,8]]))\n",
    "print(\" \")\n",
    "print(\"[[1,2],[2,3],[3,4],[4,5]] -->\", Solution.arrowShots([[1,2],[2,3],[3,4],[4,5]]))\n",
    "print(\" \")\n",
    "print(\"[[1,2]] -->\", Solution.arrowShots([[1,2]]))\n",
    "print(\" \")\n",
    "print(\"[[2,3],[2,3]] -->\", Solution.arrowShots([[2,3],[2,3]]))"
   ]
  },
  {
   "cell_type": "markdown",
   "metadata": {},
   "source": [
    "# Задача 9 \"Максимальное число\"\n",
    "Дан массив неотрицательных целых чисел nums. Расположите их в таком порядке, чтобы\n",
    "вместе они образовали максимально возможное число."
   ]
  },
  {
   "cell_type": "code",
   "execution_count": 35,
   "metadata": {},
   "outputs": [
    {
     "name": "stdout",
     "output_type": "stream",
     "text": [
      "кол-во эл. = 8\n",
      "Элементы массива\n",
      "[43, 26, 28, 98, 91, 98, 95, 68]\n",
      "[4, 2, 2, 9, 9, 9, 9, 6]\n",
      "[98, 91, 98, 95, 68, 43, 26, 28]\n",
      " 9891989568432628\n"
     ]
    }
   ],
   "source": [
    "import random\n",
    "\n",
    "length = int(input(\"кол-во эл. = \"))\n",
    "def massive(length):\n",
    "    array = []\n",
    "    print(\"Элементы массива\")\n",
    "    for i in range(length):\n",
    "        array.append(random.randint(0,100))\n",
    "    return array\n",
    "mas = massive(length)\n",
    "print(mas)\n",
    "def sort_first_element(arr):\n",
    "    b = -1\n",
    "    mas1 = []\n",
    "    for i in range(len(arr)):\n",
    "        a = arr[i]\n",
    "        while b//10 != 0:\n",
    "            b = a // 10\n",
    "            buffer = b % 10\n",
    "        mas1.append(buffer)\n",
    "        b = -1\n",
    "    for i in range(len(mas1)):\n",
    "        if mas1[i] == 0:\n",
    "            mas1[i] = arr[i]\n",
    "    return mas1\n",
    "mas1 = sort_first_element(mas)\n",
    "print(mas1)\n",
    "def sort_main_mas(mas,mas1):\n",
    "    for i in range(len(mas)-1):\n",
    "        for j in range(len(mas)-i-1):\n",
    "            if mas1[j] < mas1[j+1]:\n",
    "                mas1[j], mas1[j+1] = mas1[j+1], mas1[j]\n",
    "                mas[j], mas[j+1] = mas[j+1], mas[j]\n",
    "    return mas\n",
    "print(sort_main_mas(mas,mas1))\n",
    "\n",
    "\n",
    "def str123(mas): \n",
    "    string = ' '\n",
    "    for x in mas:\n",
    "        string += str(x)\n",
    "    return string\n",
    "\n",
    "print(str123(mas))"
   ]
  },
  {
   "cell_type": "markdown",
   "metadata": {},
   "source": [
    "# Вывод:\n",
    "    В ходе курсовой работы мы научились решать 9 различных задач в языке программирования Python 3, направленных на освоение различных тем и компетенций в данном языке программирования."
   ]
  }
 ],
 "metadata": {
  "kernelspec": {
   "display_name": "Python 3",
   "language": "python",
   "name": "python3"
  }
 },
 "nbformat": 4,
 "nbformat_minor": 4
}
